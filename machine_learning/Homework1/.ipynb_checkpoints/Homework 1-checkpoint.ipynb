{
 "cells": [
  {
   "cell_type": "markdown",
   "metadata": {},
   "source": [
    "# CSV Data"
   ]
  },
  {
   "cell_type": "markdown",
   "metadata": {},
   "source": [
    "We have a file called \"fifa.csv\" in our working directory. Let's load it into a dataframe and print the top five entries. "
   ]
  },
  {
   "cell_type": "code",
   "execution_count": 1,
   "metadata": {
    "scrolled": true
   },
   "outputs": [
    {
     "data": {
      "text/html": [
       "<div>\n",
       "<style scoped>\n",
       "    .dataframe tbody tr th:only-of-type {\n",
       "        vertical-align: middle;\n",
       "    }\n",
       "\n",
       "    .dataframe tbody tr th {\n",
       "        vertical-align: top;\n",
       "    }\n",
       "\n",
       "    .dataframe thead th {\n",
       "        text-align: right;\n",
       "    }\n",
       "</style>\n",
       "<table border=\"1\" class=\"dataframe\">\n",
       "  <thead>\n",
       "    <tr style=\"text-align: right;\">\n",
       "      <th></th>\n",
       "      <th>Unnamed: 0</th>\n",
       "      <th>ID</th>\n",
       "      <th>Name</th>\n",
       "      <th>Age</th>\n",
       "      <th>Photo</th>\n",
       "      <th>Nationality</th>\n",
       "      <th>Flag</th>\n",
       "      <th>Overall</th>\n",
       "      <th>Potential</th>\n",
       "      <th>Club</th>\n",
       "      <th>...</th>\n",
       "      <th>Composure</th>\n",
       "      <th>Marking</th>\n",
       "      <th>StandingTackle</th>\n",
       "      <th>SlidingTackle</th>\n",
       "      <th>GKDiving</th>\n",
       "      <th>GKHandling</th>\n",
       "      <th>GKKicking</th>\n",
       "      <th>GKPositioning</th>\n",
       "      <th>GKReflexes</th>\n",
       "      <th>Release Clause</th>\n",
       "    </tr>\n",
       "  </thead>\n",
       "  <tbody>\n",
       "    <tr>\n",
       "      <th>0</th>\n",
       "      <td>0</td>\n",
       "      <td>158023</td>\n",
       "      <td>L. Messi</td>\n",
       "      <td>31</td>\n",
       "      <td>https://cdn.sofifa.org/players/4/19/158023.png</td>\n",
       "      <td>Argentina</td>\n",
       "      <td>https://cdn.sofifa.org/flags/52.png</td>\n",
       "      <td>94</td>\n",
       "      <td>94</td>\n",
       "      <td>FC Barcelona</td>\n",
       "      <td>...</td>\n",
       "      <td>96.0</td>\n",
       "      <td>33.0</td>\n",
       "      <td>28.0</td>\n",
       "      <td>26.0</td>\n",
       "      <td>6.0</td>\n",
       "      <td>11.0</td>\n",
       "      <td>15.0</td>\n",
       "      <td>14.0</td>\n",
       "      <td>8.0</td>\n",
       "      <td>€226.5M</td>\n",
       "    </tr>\n",
       "    <tr>\n",
       "      <th>1</th>\n",
       "      <td>1</td>\n",
       "      <td>20801</td>\n",
       "      <td>Cristiano Ronaldo</td>\n",
       "      <td>33</td>\n",
       "      <td>https://cdn.sofifa.org/players/4/19/20801.png</td>\n",
       "      <td>Portugal</td>\n",
       "      <td>https://cdn.sofifa.org/flags/38.png</td>\n",
       "      <td>94</td>\n",
       "      <td>94</td>\n",
       "      <td>Juventus</td>\n",
       "      <td>...</td>\n",
       "      <td>95.0</td>\n",
       "      <td>28.0</td>\n",
       "      <td>31.0</td>\n",
       "      <td>23.0</td>\n",
       "      <td>7.0</td>\n",
       "      <td>11.0</td>\n",
       "      <td>15.0</td>\n",
       "      <td>14.0</td>\n",
       "      <td>11.0</td>\n",
       "      <td>€127.1M</td>\n",
       "    </tr>\n",
       "    <tr>\n",
       "      <th>2</th>\n",
       "      <td>2</td>\n",
       "      <td>190871</td>\n",
       "      <td>Neymar Jr</td>\n",
       "      <td>26</td>\n",
       "      <td>https://cdn.sofifa.org/players/4/19/190871.png</td>\n",
       "      <td>Brazil</td>\n",
       "      <td>https://cdn.sofifa.org/flags/54.png</td>\n",
       "      <td>92</td>\n",
       "      <td>93</td>\n",
       "      <td>Paris Saint-Germain</td>\n",
       "      <td>...</td>\n",
       "      <td>94.0</td>\n",
       "      <td>27.0</td>\n",
       "      <td>24.0</td>\n",
       "      <td>33.0</td>\n",
       "      <td>9.0</td>\n",
       "      <td>9.0</td>\n",
       "      <td>15.0</td>\n",
       "      <td>15.0</td>\n",
       "      <td>11.0</td>\n",
       "      <td>€228.1M</td>\n",
       "    </tr>\n",
       "    <tr>\n",
       "      <th>3</th>\n",
       "      <td>3</td>\n",
       "      <td>193080</td>\n",
       "      <td>De Gea</td>\n",
       "      <td>27</td>\n",
       "      <td>https://cdn.sofifa.org/players/4/19/193080.png</td>\n",
       "      <td>Spain</td>\n",
       "      <td>https://cdn.sofifa.org/flags/45.png</td>\n",
       "      <td>91</td>\n",
       "      <td>93</td>\n",
       "      <td>Manchester United</td>\n",
       "      <td>...</td>\n",
       "      <td>68.0</td>\n",
       "      <td>15.0</td>\n",
       "      <td>21.0</td>\n",
       "      <td>13.0</td>\n",
       "      <td>90.0</td>\n",
       "      <td>85.0</td>\n",
       "      <td>87.0</td>\n",
       "      <td>88.0</td>\n",
       "      <td>94.0</td>\n",
       "      <td>€138.6M</td>\n",
       "    </tr>\n",
       "    <tr>\n",
       "      <th>4</th>\n",
       "      <td>4</td>\n",
       "      <td>192985</td>\n",
       "      <td>K. De Bruyne</td>\n",
       "      <td>27</td>\n",
       "      <td>https://cdn.sofifa.org/players/4/19/192985.png</td>\n",
       "      <td>Belgium</td>\n",
       "      <td>https://cdn.sofifa.org/flags/7.png</td>\n",
       "      <td>91</td>\n",
       "      <td>92</td>\n",
       "      <td>Manchester City</td>\n",
       "      <td>...</td>\n",
       "      <td>88.0</td>\n",
       "      <td>68.0</td>\n",
       "      <td>58.0</td>\n",
       "      <td>51.0</td>\n",
       "      <td>15.0</td>\n",
       "      <td>13.0</td>\n",
       "      <td>5.0</td>\n",
       "      <td>10.0</td>\n",
       "      <td>13.0</td>\n",
       "      <td>€196.4M</td>\n",
       "    </tr>\n",
       "  </tbody>\n",
       "</table>\n",
       "<p>5 rows × 89 columns</p>\n",
       "</div>"
      ],
      "text/plain": [
       "   Unnamed: 0      ID               Name  Age  \\\n",
       "0           0  158023           L. Messi   31   \n",
       "1           1   20801  Cristiano Ronaldo   33   \n",
       "2           2  190871          Neymar Jr   26   \n",
       "3           3  193080             De Gea   27   \n",
       "4           4  192985       K. De Bruyne   27   \n",
       "\n",
       "                                            Photo Nationality  \\\n",
       "0  https://cdn.sofifa.org/players/4/19/158023.png   Argentina   \n",
       "1   https://cdn.sofifa.org/players/4/19/20801.png    Portugal   \n",
       "2  https://cdn.sofifa.org/players/4/19/190871.png      Brazil   \n",
       "3  https://cdn.sofifa.org/players/4/19/193080.png       Spain   \n",
       "4  https://cdn.sofifa.org/players/4/19/192985.png     Belgium   \n",
       "\n",
       "                                  Flag  Overall  Potential  \\\n",
       "0  https://cdn.sofifa.org/flags/52.png       94         94   \n",
       "1  https://cdn.sofifa.org/flags/38.png       94         94   \n",
       "2  https://cdn.sofifa.org/flags/54.png       92         93   \n",
       "3  https://cdn.sofifa.org/flags/45.png       91         93   \n",
       "4   https://cdn.sofifa.org/flags/7.png       91         92   \n",
       "\n",
       "                  Club      ...       Composure Marking StandingTackle  \\\n",
       "0         FC Barcelona      ...            96.0    33.0           28.0   \n",
       "1             Juventus      ...            95.0    28.0           31.0   \n",
       "2  Paris Saint-Germain      ...            94.0    27.0           24.0   \n",
       "3    Manchester United      ...            68.0    15.0           21.0   \n",
       "4      Manchester City      ...            88.0    68.0           58.0   \n",
       "\n",
       "   SlidingTackle GKDiving  GKHandling  GKKicking  GKPositioning GKReflexes  \\\n",
       "0           26.0      6.0        11.0       15.0           14.0        8.0   \n",
       "1           23.0      7.0        11.0       15.0           14.0       11.0   \n",
       "2           33.0      9.0         9.0       15.0           15.0       11.0   \n",
       "3           13.0     90.0        85.0       87.0           88.0       94.0   \n",
       "4           51.0     15.0        13.0        5.0           10.0       13.0   \n",
       "\n",
       "  Release Clause  \n",
       "0        €226.5M  \n",
       "1        €127.1M  \n",
       "2        €228.1M  \n",
       "3        €138.6M  \n",
       "4        €196.4M  \n",
       "\n",
       "[5 rows x 89 columns]"
      ]
     },
     "execution_count": 1,
     "metadata": {},
     "output_type": "execute_result"
    }
   ],
   "source": [
    "import pandas as pd\n",
    "import matplotlib.pyplot as plt\n",
    "\n",
    "fifa_df = pd.read_csv(\"fifa.csv\")\n",
    "fifa_df.head(5)"
   ]
  },
  {
   "cell_type": "markdown",
   "metadata": {},
   "source": [
    "Let's see how many columns are missing data and how many observations they're missing:"
   ]
  },
  {
   "cell_type": "code",
   "execution_count": 2,
   "metadata": {},
   "outputs": [
    {
     "name": "stdout",
     "output_type": "stream",
     "text": [
      "Club is missing: 241\n",
      "Preferred Foot is missing: 48\n",
      "International Reputation is missing: 48\n",
      "Weak Foot is missing: 48\n",
      "Skill Moves is missing: 48\n",
      "Work Rate is missing: 48\n",
      "Body Type is missing: 48\n",
      "Real Face is missing: 48\n",
      "Position is missing: 60\n",
      "Jersey Number is missing: 60\n",
      "Joined is missing: 1553\n",
      "Loaned From is missing: 16943\n",
      "Contract Valid Until is missing: 289\n",
      "Height is missing: 48\n",
      "Weight is missing: 48\n",
      "LS is missing: 2085\n",
      "ST is missing: 2085\n",
      "RS is missing: 2085\n",
      "LW is missing: 2085\n",
      "LF is missing: 2085\n",
      "CF is missing: 2085\n",
      "RF is missing: 2085\n",
      "RW is missing: 2085\n",
      "LAM is missing: 2085\n",
      "CAM is missing: 2085\n",
      "RAM is missing: 2085\n",
      "LM is missing: 2085\n",
      "LCM is missing: 2085\n",
      "CM is missing: 2085\n",
      "RCM is missing: 2085\n",
      "RM is missing: 2085\n",
      "LWB is missing: 2085\n",
      "LDM is missing: 2085\n",
      "CDM is missing: 2085\n",
      "RDM is missing: 2085\n",
      "RWB is missing: 2085\n",
      "LB is missing: 2085\n",
      "LCB is missing: 2085\n",
      "CB is missing: 2085\n",
      "RCB is missing: 2085\n",
      "RB is missing: 2085\n",
      "Crossing is missing: 48\n",
      "Finishing is missing: 48\n",
      "HeadingAccuracy is missing: 48\n",
      "ShortPassing is missing: 48\n",
      "Volleys is missing: 48\n",
      "Dribbling is missing: 48\n",
      "Curve is missing: 48\n",
      "FKAccuracy is missing: 48\n",
      "LongPassing is missing: 48\n",
      "BallControl is missing: 48\n",
      "Acceleration is missing: 48\n",
      "SprintSpeed is missing: 48\n",
      "Agility is missing: 48\n",
      "Reactions is missing: 48\n",
      "Balance is missing: 48\n",
      "ShotPower is missing: 48\n",
      "Jumping is missing: 48\n",
      "Stamina is missing: 48\n",
      "Strength is missing: 48\n",
      "LongShots is missing: 48\n",
      "Aggression is missing: 48\n",
      "Interceptions is missing: 48\n",
      "Positioning is missing: 48\n",
      "Vision is missing: 48\n",
      "Penalties is missing: 48\n",
      "Composure is missing: 48\n",
      "Marking is missing: 48\n",
      "StandingTackle is missing: 48\n",
      "SlidingTackle is missing: 48\n",
      "GKDiving is missing: 48\n",
      "GKHandling is missing: 48\n",
      "GKKicking is missing: 48\n",
      "GKPositioning is missing: 48\n",
      "GKReflexes is missing: 48\n",
      "Release Clause is missing: 1564\n"
     ]
    }
   ],
   "source": [
    "for column in fifa_df.columns[fifa_df.isnull().any()]:\n",
    "    print(column + \" is missing: \" + str(sum(fifa_df[column].isnull())))"
   ]
  },
  {
   "cell_type": "markdown",
   "metadata": {},
   "source": [
    "Some of them are missing quite a few. We have more than 18,000 observations, so if it's under 180 (less than 1%), we can probably ignore it. Otherwise, we'll drop the entire column if it's missing too many. The Release Clause is interesting to me, though, so we'll just drop the rows that are missing there. We also don't care about photo, flag, or club logo URLs, so we'll drop those columns. "
   ]
  },
  {
   "cell_type": "code",
   "execution_count": 3,
   "metadata": {},
   "outputs": [],
   "source": [
    "fifa_df.drop(['Photo', 'Flag', 'Club Logo'], axis=1, inplace=True)\n",
    "fifa_df.dropna(subset=['Release Clause'], inplace=True)"
   ]
  },
  {
   "cell_type": "code",
   "execution_count": 4,
   "metadata": {},
   "outputs": [],
   "source": [
    "#Reset the index so we don't run into problems later.\n",
    "fifa_df.reset_index(inplace=True)"
   ]
  },
  {
   "cell_type": "code",
   "execution_count": 5,
   "metadata": {},
   "outputs": [],
   "source": [
    "for column in fifa_df.columns[fifa_df.isnull().any()]:\n",
    "    if sum(fifa_df[column].isnull()) > (len(fifa_df.index) / 100):\n",
    "        fifa_df.drop([column], axis=1, inplace=True)"
   ]
  },
  {
   "cell_type": "markdown",
   "metadata": {},
   "source": [
    "Now let's see how many are missing. "
   ]
  },
  {
   "cell_type": "code",
   "execution_count": 6,
   "metadata": {},
   "outputs": [],
   "source": [
    "for column in fifa_df.columns[fifa_df.isnull().any()]:\n",
    "    print(column + \" is missing: \" + str(sum(fifa_df[column].isnull())))"
   ]
  },
  {
   "cell_type": "markdown",
   "metadata": {},
   "source": [
    "None, perfect! It looks like a lot of our missing values that were less than 1% of our total number of observations were also missing their Release Clause data, so we dropped them all. \n",
    "\n",
    "Here are some summary statistics for the file (Age is self-explanatory, Overall is the player's overall rating, as calculated by FIFA): "
   ]
  },
  {
   "cell_type": "code",
   "execution_count": 7,
   "metadata": {},
   "outputs": [
    {
     "data": {
      "text/html": [
       "<div>\n",
       "<style scoped>\n",
       "    .dataframe tbody tr th:only-of-type {\n",
       "        vertical-align: middle;\n",
       "    }\n",
       "\n",
       "    .dataframe tbody tr th {\n",
       "        vertical-align: top;\n",
       "    }\n",
       "\n",
       "    .dataframe thead th {\n",
       "        text-align: right;\n",
       "    }\n",
       "</style>\n",
       "<table border=\"1\" class=\"dataframe\">\n",
       "  <thead>\n",
       "    <tr style=\"text-align: right;\">\n",
       "      <th></th>\n",
       "      <th>Age</th>\n",
       "      <th>Overall</th>\n",
       "    </tr>\n",
       "  </thead>\n",
       "  <tbody>\n",
       "    <tr>\n",
       "      <th>count</th>\n",
       "      <td>16643.000000</td>\n",
       "      <td>16643.000000</td>\n",
       "    </tr>\n",
       "    <tr>\n",
       "      <th>mean</th>\n",
       "      <td>25.226221</td>\n",
       "      <td>66.162771</td>\n",
       "    </tr>\n",
       "    <tr>\n",
       "      <th>std</th>\n",
       "      <td>4.716588</td>\n",
       "      <td>7.008236</td>\n",
       "    </tr>\n",
       "    <tr>\n",
       "      <th>min</th>\n",
       "      <td>16.000000</td>\n",
       "      <td>46.000000</td>\n",
       "    </tr>\n",
       "    <tr>\n",
       "      <th>25%</th>\n",
       "      <td>21.000000</td>\n",
       "      <td>62.000000</td>\n",
       "    </tr>\n",
       "    <tr>\n",
       "      <th>50%</th>\n",
       "      <td>25.000000</td>\n",
       "      <td>66.000000</td>\n",
       "    </tr>\n",
       "    <tr>\n",
       "      <th>75%</th>\n",
       "      <td>29.000000</td>\n",
       "      <td>71.000000</td>\n",
       "    </tr>\n",
       "    <tr>\n",
       "      <th>max</th>\n",
       "      <td>45.000000</td>\n",
       "      <td>94.000000</td>\n",
       "    </tr>\n",
       "  </tbody>\n",
       "</table>\n",
       "</div>"
      ],
      "text/plain": [
       "                Age       Overall\n",
       "count  16643.000000  16643.000000\n",
       "mean      25.226221     66.162771\n",
       "std        4.716588      7.008236\n",
       "min       16.000000     46.000000\n",
       "25%       21.000000     62.000000\n",
       "50%       25.000000     66.000000\n",
       "75%       29.000000     71.000000\n",
       "max       45.000000     94.000000"
      ]
     },
     "execution_count": 7,
     "metadata": {},
     "output_type": "execute_result"
    }
   ],
   "source": [
    "fifa_df[[\"Age\", \"Overall\"]].describe()"
   ]
  },
  {
   "cell_type": "markdown",
   "metadata": {},
   "source": [
    "How many FIFA players are right-footed?"
   ]
  },
  {
   "cell_type": "code",
   "execution_count": 8,
   "metadata": {},
   "outputs": [
    {
     "data": {
      "image/png": "[encoded data removed]",
      "text/plain": [
       "<Figure size 432x288 with 1 Axes>"
      ]
     },
     "metadata": {},
     "output_type": "display_data"
    }
   ],
   "source": [
    "fifa_df['Preferred Foot'].value_counts().plot(kind='pie', autopct='%1.0f%%')\n",
    "plt.show()"
   ]
  },
  {
   "cell_type": "markdown",
   "metadata": {},
   "source": [
    "It looks like the majority of FIFA players are right-footed. It would be interesting to collect data on people in general to see whether this trend follows the general population or if right-footed people are somehow better suited to play in professional soccer."
   ]
  },
  {
   "cell_type": "markdown",
   "metadata": {},
   "source": [
    "How does Release Clause relate to Value? "
   ]
  },
  {
   "cell_type": "code",
   "execution_count": 9,
   "metadata": {},
   "outputs": [],
   "source": [
    "for i, val in enumerate(fifa_df['Release Clause']):\n",
    "    if val[-1] == 'M':\n",
    "        fifa_df.at[i, 'Release Clause'] = int(float(val[1:-1])*1000000)\n",
    "    else:\n",
    "        fifa_df.at[i, 'Release Clause'] = int(float(val[1:-1])*1000)"
   ]
  },
  {
   "cell_type": "code",
   "execution_count": 10,
   "metadata": {},
   "outputs": [],
   "source": [
    "for i, val in enumerate(fifa_df['Value']):\n",
    "    if val[-1] == 'M':\n",
    "        fifa_df.at[i, 'Value'] = int(float(val[1:-1])*1000000)\n",
    "    else:\n",
    "        fifa_df.at[i, 'Value'] = int(float(val[1:-1])*1000)"
   ]
  },
  {
   "cell_type": "code",
   "execution_count": 11,
   "metadata": {},
   "outputs": [],
   "source": [
    "fifa_df['Release Clause'] = fifa_df['Release Clause'].astype(int)"
   ]
  },
  {
   "cell_type": "code",
   "execution_count": 12,
   "metadata": {},
   "outputs": [],
   "source": [
    "fifa_df['Value'] = fifa_df['Value'].astype(int)"
   ]
  },
  {
   "cell_type": "code",
   "execution_count": 13,
   "metadata": {},
   "outputs": [
    {
     "data": {
      "image/png": "[encoded data removed]",
      "text/plain": [
       "<Figure size 432x288 with 1 Axes>"
      ]
     },
     "metadata": {
      "needs_background": "light"
     },
     "output_type": "display_data"
    }
   ],
   "source": [
    "fifa_df.plot.scatter('Release Clause', 'Value')\n",
    "plt.show()"
   ]
  },
  {
   "cell_type": "markdown",
   "metadata": {},
   "source": [
    "It turns out that Release Clause and Value have an extremely linear relationship."
   ]
  },
  {
   "cell_type": "markdown",
   "metadata": {},
   "source": [
    "How does Wage relate to Value?"
   ]
  },
  {
   "cell_type": "code",
   "execution_count": 14,
   "metadata": {},
   "outputs": [],
   "source": [
    "for i, val in enumerate(fifa_df['Wage']):\n",
    "    if val[-1] == 'M':\n",
    "        fifa_df.at[i, 'Wage'] = int(float(val[1:-1])*1000000)\n",
    "    else:\n",
    "        fifa_df.at[i, 'Wage'] = int(float(val[1:-1])*1000)"
   ]
  },
  {
   "cell_type": "code",
   "execution_count": 15,
   "metadata": {},
   "outputs": [],
   "source": [
    "fifa_df['Wage'] = fifa_df['Wage'].astype(int)"
   ]
  },
  {
   "cell_type": "code",
   "execution_count": 16,
   "metadata": {},
   "outputs": [
    {
     "data": {
      "image/png": "[encoded data removed]",
      "text/plain": [
       "<Figure size 432x288 with 1 Axes>"
      ]
     },
     "metadata": {
      "needs_background": "light"
     },
     "output_type": "display_data"
    }
   ],
   "source": [
    "p1 = fifa_df.plot.scatter('Wage', 'Value')\n",
    "p1.text(575000, 109500000, \"L. Messi\", horizontalalignment='left', size='medium', color='black', weight='semibold')\n",
    "p1.text(300000, 118500000, \"Neymar Jr\", horizontalalignment='left', size='medium', color='black', weight='semibold')\n",
    "plt.show()"
   ]
  },
  {
   "cell_type": "markdown",
   "metadata": {},
   "source": [
    "This makes our previous graph even more interesting. The Release Clause variable says how much another team must pay in order to buy that player's contract. It makes sense that their value is very closely related to their release clause. It's possible that their release clause is heavily weighted when considering how much a player is worth, or that their release clause is based on a player's value, which would both explain why the release clause and a player's worth are so linearly related. \n",
    "\n",
    "However, it appears that, while there is a generally linear relationship between a player's value and their wage, there are many more outliers, such as Lionel Messi and Neymar Jr."
   ]
  },
  {
   "cell_type": "markdown",
   "metadata": {},
   "source": [
    "# JSON data"
   ]
  },
  {
   "cell_type": "code",
   "execution_count": 17,
   "metadata": {},
   "outputs": [],
   "source": [
    "import pandas as pd\n",
    "json_df = pd.read_json(\"https://pkgstore.datahub.io/cryptocurrency/ethereum/ethereum_json/data/d4eaf003a3fb89cca33ef529b92820e1/ethereum_json.json\")"
   ]
  },
  {
   "cell_type": "code",
   "execution_count": 18,
   "metadata": {},
   "outputs": [
    {
     "name": "stdout",
     "output_type": "stream",
     "text": [
      "Rows in dataframe: 1110\n"
     ]
    },
    {
     "data": {
      "text/html": [
       "<div>\n",
       "<style scoped>\n",
       "    .dataframe tbody tr th:only-of-type {\n",
       "        vertical-align: middle;\n",
       "    }\n",
       "\n",
       "    .dataframe tbody tr th {\n",
       "        vertical-align: top;\n",
       "    }\n",
       "\n",
       "    .dataframe thead th {\n",
       "        text-align: right;\n",
       "    }\n",
       "</style>\n",
       "<table border=\"1\" class=\"dataframe\">\n",
       "  <thead>\n",
       "    <tr style=\"text-align: right;\">\n",
       "      <th></th>\n",
       "      <th>activeAddresses</th>\n",
       "      <th>adjustedTxVolume(USD)</th>\n",
       "      <th>averageDifficulty</th>\n",
       "      <th>blockCount</th>\n",
       "      <th>blockSize</th>\n",
       "      <th>date</th>\n",
       "      <th>exchangeVolume(USD)</th>\n",
       "      <th>fees</th>\n",
       "      <th>generatedCoins</th>\n",
       "      <th>marketcap(USD)</th>\n",
       "      <th>medianFee</th>\n",
       "      <th>medianTxValue(USD)</th>\n",
       "      <th>paymentCount</th>\n",
       "      <th>price(USD)</th>\n",
       "      <th>txCount</th>\n",
       "      <th>txVolume(USD)</th>\n",
       "    </tr>\n",
       "  </thead>\n",
       "  <tbody>\n",
       "    <tr>\n",
       "      <th>0</th>\n",
       "      <td>NaN</td>\n",
       "      <td>NaN</td>\n",
       "      <td>121335493201</td>\n",
       "      <td>6911</td>\n",
       "      <td>4449897</td>\n",
       "      <td>2015-07-30</td>\n",
       "      <td>NaN</td>\n",
       "      <td>NaN</td>\n",
       "      <td>39311.09375</td>\n",
       "      <td>NaN</td>\n",
       "      <td>NaN</td>\n",
       "      <td>NaN</td>\n",
       "      <td>NaN</td>\n",
       "      <td>NaN</td>\n",
       "      <td>NaN</td>\n",
       "      <td>NaN</td>\n",
       "    </tr>\n",
       "    <tr>\n",
       "      <th>1</th>\n",
       "      <td>NaN</td>\n",
       "      <td>NaN</td>\n",
       "      <td>602941851594</td>\n",
       "      <td>6863</td>\n",
       "      <td>3994458</td>\n",
       "      <td>2015-07-31</td>\n",
       "      <td>NaN</td>\n",
       "      <td>NaN</td>\n",
       "      <td>36191.71875</td>\n",
       "      <td>NaN</td>\n",
       "      <td>NaN</td>\n",
       "      <td>NaN</td>\n",
       "      <td>NaN</td>\n",
       "      <td>NaN</td>\n",
       "      <td>NaN</td>\n",
       "      <td>NaN</td>\n",
       "    </tr>\n",
       "    <tr>\n",
       "      <th>2</th>\n",
       "      <td>NaN</td>\n",
       "      <td>NaN</td>\n",
       "      <td>887254173531</td>\n",
       "      <td>5293</td>\n",
       "      <td>3044344</td>\n",
       "      <td>2015-08-01</td>\n",
       "      <td>NaN</td>\n",
       "      <td>NaN</td>\n",
       "      <td>27702.18750</td>\n",
       "      <td>NaN</td>\n",
       "      <td>NaN</td>\n",
       "      <td>NaN</td>\n",
       "      <td>NaN</td>\n",
       "      <td>NaN</td>\n",
       "      <td>NaN</td>\n",
       "      <td>NaN</td>\n",
       "    </tr>\n",
       "    <tr>\n",
       "      <th>3</th>\n",
       "      <td>NaN</td>\n",
       "      <td>NaN</td>\n",
       "      <td>1020253707550</td>\n",
       "      <td>5358</td>\n",
       "      <td>3112348</td>\n",
       "      <td>2015-08-02</td>\n",
       "      <td>NaN</td>\n",
       "      <td>NaN</td>\n",
       "      <td>28227.18750</td>\n",
       "      <td>NaN</td>\n",
       "      <td>NaN</td>\n",
       "      <td>NaN</td>\n",
       "      <td>NaN</td>\n",
       "      <td>NaN</td>\n",
       "      <td>NaN</td>\n",
       "      <td>NaN</td>\n",
       "    </tr>\n",
       "    <tr>\n",
       "      <th>4</th>\n",
       "      <td>NaN</td>\n",
       "      <td>NaN</td>\n",
       "      <td>1125837358850</td>\n",
       "      <td>5280</td>\n",
       "      <td>3099953</td>\n",
       "      <td>2015-08-03</td>\n",
       "      <td>NaN</td>\n",
       "      <td>NaN</td>\n",
       "      <td>27976.71875</td>\n",
       "      <td>NaN</td>\n",
       "      <td>NaN</td>\n",
       "      <td>NaN</td>\n",
       "      <td>NaN</td>\n",
       "      <td>NaN</td>\n",
       "      <td>NaN</td>\n",
       "      <td>NaN</td>\n",
       "    </tr>\n",
       "  </tbody>\n",
       "</table>\n",
       "</div>"
      ],
      "text/plain": [
       "   activeAddresses  adjustedTxVolume(USD)  averageDifficulty  blockCount  \\\n",
       "0              NaN                    NaN       121335493201        6911   \n",
       "1              NaN                    NaN       602941851594        6863   \n",
       "2              NaN                    NaN       887254173531        5293   \n",
       "3              NaN                    NaN      1020253707550        5358   \n",
       "4              NaN                    NaN      1125837358850        5280   \n",
       "\n",
       "   blockSize       date  exchangeVolume(USD)  fees  generatedCoins  \\\n",
       "0    4449897 2015-07-30                  NaN   NaN     39311.09375   \n",
       "1    3994458 2015-07-31                  NaN   NaN     36191.71875   \n",
       "2    3044344 2015-08-01                  NaN   NaN     27702.18750   \n",
       "3    3112348 2015-08-02                  NaN   NaN     28227.18750   \n",
       "4    3099953 2015-08-03                  NaN   NaN     27976.71875   \n",
       "\n",
       "   marketcap(USD)  medianFee  medianTxValue(USD)  paymentCount  price(USD)  \\\n",
       "0             NaN        NaN                 NaN           NaN         NaN   \n",
       "1             NaN        NaN                 NaN           NaN         NaN   \n",
       "2             NaN        NaN                 NaN           NaN         NaN   \n",
       "3             NaN        NaN                 NaN           NaN         NaN   \n",
       "4             NaN        NaN                 NaN           NaN         NaN   \n",
       "\n",
       "   txCount  txVolume(USD)  \n",
       "0      NaN            NaN  \n",
       "1      NaN            NaN  \n",
       "2      NaN            NaN  \n",
       "3      NaN            NaN  \n",
       "4      NaN            NaN  "
      ]
     },
     "execution_count": 18,
     "metadata": {},
     "output_type": "execute_result"
    }
   ],
   "source": [
    "print(\"Rows in dataframe: \" + str(len(json_df.index)))\n",
    "json_df.head(5)"
   ]
  },
  {
   "cell_type": "markdown",
   "metadata": {},
   "source": [
    "It looks like there are lots of missing values. Let's drop them and see how the length is affected."
   ]
  },
  {
   "cell_type": "code",
   "execution_count": 19,
   "metadata": {},
   "outputs": [
    {
     "name": "stdout",
     "output_type": "stream",
     "text": [
      "Rows in trimmed dataframe: 1102\n"
     ]
    }
   ],
   "source": [
    "print(\"Rows in trimmed dataframe: \" + str(len(json_df.dropna().index)))"
   ]
  },
  {
   "cell_type": "markdown",
   "metadata": {},
   "source": [
    "So it only drops 8 rows out of over 1100. Let's go ahead and replace our dataframe and drop the missing variables."
   ]
  },
  {
   "cell_type": "code",
   "execution_count": 20,
   "metadata": {},
   "outputs": [
    {
     "data": {
      "text/html": [
       "<div>\n",
       "<style scoped>\n",
       "    .dataframe tbody tr th:only-of-type {\n",
       "        vertical-align: middle;\n",
       "    }\n",
       "\n",
       "    .dataframe tbody tr th {\n",
       "        vertical-align: top;\n",
       "    }\n",
       "\n",
       "    .dataframe thead th {\n",
       "        text-align: right;\n",
       "    }\n",
       "</style>\n",
       "<table border=\"1\" class=\"dataframe\">\n",
       "  <thead>\n",
       "    <tr style=\"text-align: right;\">\n",
       "      <th></th>\n",
       "      <th>index</th>\n",
       "      <th>activeAddresses</th>\n",
       "      <th>adjustedTxVolume(USD)</th>\n",
       "      <th>averageDifficulty</th>\n",
       "      <th>blockCount</th>\n",
       "      <th>blockSize</th>\n",
       "      <th>date</th>\n",
       "      <th>exchangeVolume(USD)</th>\n",
       "      <th>fees</th>\n",
       "      <th>generatedCoins</th>\n",
       "      <th>marketcap(USD)</th>\n",
       "      <th>medianFee</th>\n",
       "      <th>medianTxValue(USD)</th>\n",
       "      <th>paymentCount</th>\n",
       "      <th>price(USD)</th>\n",
       "      <th>txCount</th>\n",
       "      <th>txVolume(USD)</th>\n",
       "    </tr>\n",
       "  </thead>\n",
       "  <tbody>\n",
       "    <tr>\n",
       "      <th>0</th>\n",
       "      <td>8</td>\n",
       "      <td>1086.0</td>\n",
       "      <td>5.684487e+06</td>\n",
       "      <td>1470838650660</td>\n",
       "      <td>5189</td>\n",
       "      <td>3282693</td>\n",
       "      <td>2015-08-07</td>\n",
       "      <td>164329.0</td>\n",
       "      <td>37.318414</td>\n",
       "      <td>27437.65625</td>\n",
       "      <td>0.0</td>\n",
       "      <td>0.001321</td>\n",
       "      <td>41.611713</td>\n",
       "      <td>1977.0</td>\n",
       "      <td>2.830000</td>\n",
       "      <td>2050.0</td>\n",
       "      <td>5.684487e+06</td>\n",
       "    </tr>\n",
       "    <tr>\n",
       "      <th>1</th>\n",
       "      <td>9</td>\n",
       "      <td>826.0</td>\n",
       "      <td>3.789968e+07</td>\n",
       "      <td>1586123528940</td>\n",
       "      <td>5256</td>\n",
       "      <td>3508878</td>\n",
       "      <td>2015-08-08</td>\n",
       "      <td>674188.0</td>\n",
       "      <td>68.099970</td>\n",
       "      <td>27943.43750</td>\n",
       "      <td>167911008.0</td>\n",
       "      <td>0.001243</td>\n",
       "      <td>0.279000</td>\n",
       "      <td>1973.0</td>\n",
       "      <td>2.790000</td>\n",
       "      <td>2881.0</td>\n",
       "      <td>3.789968e+07</td>\n",
       "    </tr>\n",
       "    <tr>\n",
       "      <th>2</th>\n",
       "      <td>10</td>\n",
       "      <td>732.0</td>\n",
       "      <td>8.236055e+05</td>\n",
       "      <td>1709479787480</td>\n",
       "      <td>5123</td>\n",
       "      <td>3167541</td>\n",
       "      <td>2015-08-09</td>\n",
       "      <td>532170.0</td>\n",
       "      <td>14.098950</td>\n",
       "      <td>27178.28125</td>\n",
       "      <td>42637600.0</td>\n",
       "      <td>0.001223</td>\n",
       "      <td>7.061360</td>\n",
       "      <td>1213.0</td>\n",
       "      <td>0.706136</td>\n",
       "      <td>1329.0</td>\n",
       "      <td>8.236055e+05</td>\n",
       "    </tr>\n",
       "    <tr>\n",
       "      <th>3</th>\n",
       "      <td>11</td>\n",
       "      <td>1001.0</td>\n",
       "      <td>1.194050e+06</td>\n",
       "      <td>1837695763270</td>\n",
       "      <td>5255</td>\n",
       "      <td>3316883</td>\n",
       "      <td>2015-08-10</td>\n",
       "      <td>405283.0</td>\n",
       "      <td>31.165144</td>\n",
       "      <td>27817.34375</td>\n",
       "      <td>43130000.0</td>\n",
       "      <td>0.001228</td>\n",
       "      <td>0.359784</td>\n",
       "      <td>1451.0</td>\n",
       "      <td>0.713989</td>\n",
       "      <td>2037.0</td>\n",
       "      <td>1.194050e+06</td>\n",
       "    </tr>\n",
       "    <tr>\n",
       "      <th>4</th>\n",
       "      <td>12</td>\n",
       "      <td>2342.0</td>\n",
       "      <td>1.053130e+06</td>\n",
       "      <td>2036390797500</td>\n",
       "      <td>5280</td>\n",
       "      <td>3653834</td>\n",
       "      <td>2015-08-11</td>\n",
       "      <td>1463100.0</td>\n",
       "      <td>11.311449</td>\n",
       "      <td>28027.81250</td>\n",
       "      <td>42796500.0</td>\n",
       "      <td>0.001218</td>\n",
       "      <td>0.034006</td>\n",
       "      <td>3029.0</td>\n",
       "      <td>0.708087</td>\n",
       "      <td>4963.0</td>\n",
       "      <td>1.053130e+06</td>\n",
       "    </tr>\n",
       "  </tbody>\n",
       "</table>\n",
       "</div>"
      ],
      "text/plain": [
       "   index  activeAddresses  adjustedTxVolume(USD)  averageDifficulty  \\\n",
       "0      8           1086.0           5.684487e+06      1470838650660   \n",
       "1      9            826.0           3.789968e+07      1586123528940   \n",
       "2     10            732.0           8.236055e+05      1709479787480   \n",
       "3     11           1001.0           1.194050e+06      1837695763270   \n",
       "4     12           2342.0           1.053130e+06      2036390797500   \n",
       "\n",
       "   blockCount  blockSize       date  exchangeVolume(USD)       fees  \\\n",
       "0        5189    3282693 2015-08-07             164329.0  37.318414   \n",
       "1        5256    3508878 2015-08-08             674188.0  68.099970   \n",
       "2        5123    3167541 2015-08-09             532170.0  14.098950   \n",
       "3        5255    3316883 2015-08-10             405283.0  31.165144   \n",
       "4        5280    3653834 2015-08-11            1463100.0  11.311449   \n",
       "\n",
       "   generatedCoins  marketcap(USD)  medianFee  medianTxValue(USD)  \\\n",
       "0     27437.65625             0.0   0.001321           41.611713   \n",
       "1     27943.43750     167911008.0   0.001243            0.279000   \n",
       "2     27178.28125      42637600.0   0.001223            7.061360   \n",
       "3     27817.34375      43130000.0   0.001228            0.359784   \n",
       "4     28027.81250      42796500.0   0.001218            0.034006   \n",
       "\n",
       "   paymentCount  price(USD)  txCount  txVolume(USD)  \n",
       "0        1977.0    2.830000   2050.0   5.684487e+06  \n",
       "1        1973.0    2.790000   2881.0   3.789968e+07  \n",
       "2        1213.0    0.706136   1329.0   8.236055e+05  \n",
       "3        1451.0    0.713989   2037.0   1.194050e+06  \n",
       "4        3029.0    0.708087   4963.0   1.053130e+06  "
      ]
     },
     "execution_count": 20,
     "metadata": {},
     "output_type": "execute_result"
    }
   ],
   "source": [
    "json_df.dropna(inplace=True)\n",
    "json_df.reset_index(inplace=True)\n",
    "json_df.head(5)"
   ]
  },
  {
   "cell_type": "markdown",
   "metadata": {},
   "source": [
    "That looks a lot better. Now let's convert dates so we can use them in plots."
   ]
  },
  {
   "cell_type": "code",
   "execution_count": 21,
   "metadata": {},
   "outputs": [],
   "source": [
    "import datetime as dt\n",
    "\n",
    "x = [dt.datetime.strptime(str(d)[:-9],'%Y-%m-%d').date() for d in json_df['date']]\n",
    "json_df['date'] = x"
   ]
  },
  {
   "cell_type": "markdown",
   "metadata": {},
   "source": [
    "Now that that's converted, let's show some summary statistics for our table: "
   ]
  },
  {
   "cell_type": "code",
   "execution_count": 22,
   "metadata": {},
   "outputs": [
    {
     "data": {
      "text/html": [
       "<div>\n",
       "<style scoped>\n",
       "    .dataframe tbody tr th:only-of-type {\n",
       "        vertical-align: middle;\n",
       "    }\n",
       "\n",
       "    .dataframe tbody tr th {\n",
       "        vertical-align: top;\n",
       "    }\n",
       "\n",
       "    .dataframe thead th {\n",
       "        text-align: right;\n",
       "    }\n",
       "</style>\n",
       "<table border=\"1\" class=\"dataframe\">\n",
       "  <thead>\n",
       "    <tr style=\"text-align: right;\">\n",
       "      <th></th>\n",
       "      <th>averageDifficulty</th>\n",
       "      <th>blockCount</th>\n",
       "      <th>blockSize</th>\n",
       "      <th>fees</th>\n",
       "    </tr>\n",
       "  </thead>\n",
       "  <tbody>\n",
       "    <tr>\n",
       "      <th>count</th>\n",
       "      <td>1.102000e+03</td>\n",
       "      <td>1102.000000</td>\n",
       "      <td>1.102000e+03</td>\n",
       "      <td>1102.000000</td>\n",
       "    </tr>\n",
       "    <tr>\n",
       "      <th>mean</th>\n",
       "      <td>9.996654e+14</td>\n",
       "      <td>5527.687840</td>\n",
       "      <td>4.701811e+07</td>\n",
       "      <td>305.877297</td>\n",
       "    </tr>\n",
       "    <tr>\n",
       "      <th>std</th>\n",
       "      <td>1.268281e+15</td>\n",
       "      <td>723.307729</td>\n",
       "      <td>5.342374e+07</td>\n",
       "      <td>546.392845</td>\n",
       "    </tr>\n",
       "    <tr>\n",
       "      <th>min</th>\n",
       "      <td>1.470839e+12</td>\n",
       "      <td>2829.000000</td>\n",
       "      <td>2.555486e+06</td>\n",
       "      <td>5.507452</td>\n",
       "    </tr>\n",
       "    <tr>\n",
       "      <th>25%</th>\n",
       "      <td>3.451544e+13</td>\n",
       "      <td>5090.750000</td>\n",
       "      <td>8.508348e+06</td>\n",
       "      <td>30.188337</td>\n",
       "    </tr>\n",
       "    <tr>\n",
       "      <th>50%</th>\n",
       "      <td>1.198243e+14</td>\n",
       "      <td>5860.500000</td>\n",
       "      <td>1.114435e+07</td>\n",
       "      <td>60.496571</td>\n",
       "    </tr>\n",
       "    <tr>\n",
       "      <th>75%</th>\n",
       "      <td>1.913404e+15</td>\n",
       "      <td>6022.750000</td>\n",
       "      <td>9.215752e+07</td>\n",
       "      <td>379.900318</td>\n",
       "    </tr>\n",
       "    <tr>\n",
       "      <th>max</th>\n",
       "      <td>3.606036e+15</td>\n",
       "      <td>6409.000000</td>\n",
       "      <td>1.836944e+08</td>\n",
       "      <td>5862.526226</td>\n",
       "    </tr>\n",
       "  </tbody>\n",
       "</table>\n",
       "</div>"
      ],
      "text/plain": [
       "       averageDifficulty   blockCount     blockSize         fees\n",
       "count       1.102000e+03  1102.000000  1.102000e+03  1102.000000\n",
       "mean        9.996654e+14  5527.687840  4.701811e+07   305.877297\n",
       "std         1.268281e+15   723.307729  5.342374e+07   546.392845\n",
       "min         1.470839e+12  2829.000000  2.555486e+06     5.507452\n",
       "25%         3.451544e+13  5090.750000  8.508348e+06    30.188337\n",
       "50%         1.198243e+14  5860.500000  1.114435e+07    60.496571\n",
       "75%         1.913404e+15  6022.750000  9.215752e+07   379.900318\n",
       "max         3.606036e+15  6409.000000  1.836944e+08  5862.526226"
      ]
     },
     "execution_count": 22,
     "metadata": {},
     "output_type": "execute_result"
    }
   ],
   "source": [
    "json_df[['date', 'averageDifficulty', 'blockCount', 'blockSize', 'fees']].describe()"
   ]
  },
  {
   "cell_type": "code",
   "execution_count": 23,
   "metadata": {},
   "outputs": [
    {
     "data": {
      "image/png": "[encoded data removed]",
      "text/plain": [
       "<Figure size 432x288 with 1 Axes>"
      ]
     },
     "metadata": {
      "needs_background": "light"
     },
     "output_type": "display_data"
    }
   ],
   "source": [
    "import matplotlib.dates as mdates\n",
    "\n",
    "plt.plot(json_df['date'], json_df['averageDifficulty'])\n",
    "plt.gcf().autofmt_xdate()"
   ]
  },
  {
   "cell_type": "markdown",
   "metadata": {},
   "source": [
    "This is really interesting. It shows that the average difficulty of mining an Ethereum block tracks pretty closely with its popularity. The big spike in the middle shows the time at the end of 2017 when cryptocurrencies were really taking off, and then their collapse as well. "
   ]
  },
  {
   "cell_type": "code",
   "execution_count": 24,
   "metadata": {},
   "outputs": [
    {
     "data": {
      "image/png": "[encoded data removed]",
      "text/plain": [
       "<Figure size 432x288 with 1 Axes>"
      ]
     },
     "metadata": {
      "needs_background": "light"
     },
     "output_type": "display_data"
    }
   ],
   "source": [
    "plt.plot(json_df['date'], json_df['blockCount'])\n",
    "plt.gcf().autofmt_xdate()"
   ]
  },
  {
   "cell_type": "markdown",
   "metadata": {},
   "source": [
    "It's possible that I'm misunderstanding the blockCount variable, because I thought it was just counting how many blocks are in the blockchain. However, this leads me to believe that it might be the number of transactions in a block, possibly. "
   ]
  },
  {
   "cell_type": "code",
   "execution_count": 25,
   "metadata": {},
   "outputs": [
    {
     "data": {
      "image/png": "[encoded data removed]",
      "text/plain": [
       "<Figure size 432x288 with 1 Axes>"
      ]
     },
     "metadata": {
      "needs_background": "light"
     },
     "output_type": "display_data"
    }
   ],
   "source": [
    "plt.plot(json_df['date'], json_df['fees'])\n",
    "plt.gcf().autofmt_xdate()"
   ]
  },
  {
   "cell_type": "markdown",
   "metadata": {},
   "source": [
    "Apparently, blockchain miners sometimes require a huge amount of fees and sometimes don't. I'm not sure what drives that, but it looks fairly random. "
   ]
  },
  {
   "cell_type": "code",
   "execution_count": 26,
   "metadata": {},
   "outputs": [
    {
     "data": {
      "image/png": "[encoded data removed]",
      "text/plain": [
       "<Figure size 432x288 with 1 Axes>"
      ]
     },
     "metadata": {
      "needs_background": "light"
     },
     "output_type": "display_data"
    }
   ],
   "source": [
    "plt.plot(json_df['date'], json_df['blockSize'])\n",
    "plt.gcf().autofmt_xdate()"
   ]
  },
  {
   "cell_type": "markdown",
   "metadata": {},
   "source": [
    "I wonder what caused the spike at the end of 2016? Needs some research."
   ]
  },
  {
   "cell_type": "code",
   "execution_count": 27,
   "metadata": {},
   "outputs": [
    {
     "data": {
      "image/png": "[encoded data removed]",
      "text/plain": [
       "<Figure size 432x288 with 1 Axes>"
      ]
     },
     "metadata": {
      "needs_background": "light"
     },
     "output_type": "display_data"
    }
   ],
   "source": [
    "plt.plot(json_df['date'], json_df['generatedCoins'])\n",
    "plt.gcf().autofmt_xdate()"
   ]
  },
  {
   "cell_type": "markdown",
   "metadata": {},
   "source": [
    "This mostly makes sense. In theory, the number of coins generated per block should always decrease, but it could be that Vitalik Buterin decided to change the way that worked after the big crash at the end of 2017."
   ]
  },
  {
   "cell_type": "markdown",
   "metadata": {},
   "source": [
    "# SQL Data"
   ]
  },
  {
   "cell_type": "code",
   "execution_count": 28,
   "metadata": {},
   "outputs": [
    {
     "data": {
      "text/html": [
       "<div>\n",
       "<style scoped>\n",
       "    .dataframe tbody tr th:only-of-type {\n",
       "        vertical-align: middle;\n",
       "    }\n",
       "\n",
       "    .dataframe tbody tr th {\n",
       "        vertical-align: top;\n",
       "    }\n",
       "\n",
       "    .dataframe thead th {\n",
       "        text-align: right;\n",
       "    }\n",
       "</style>\n",
       "<table border=\"1\" class=\"dataframe\">\n",
       "  <thead>\n",
       "    <tr style=\"text-align: right;\">\n",
       "      <th></th>\n",
       "      <th>Id</th>\n",
       "      <th>EmployeeName</th>\n",
       "      <th>JobTitle</th>\n",
       "      <th>BasePay</th>\n",
       "      <th>OvertimePay</th>\n",
       "      <th>OtherPay</th>\n",
       "      <th>Benefits</th>\n",
       "      <th>TotalPay</th>\n",
       "      <th>TotalPayBenefits</th>\n",
       "      <th>Year</th>\n",
       "      <th>Notes</th>\n",
       "      <th>Agency</th>\n",
       "      <th>Status</th>\n",
       "    </tr>\n",
       "  </thead>\n",
       "  <tbody>\n",
       "    <tr>\n",
       "      <th>0</th>\n",
       "      <td>1</td>\n",
       "      <td>NATHANIEL FORD</td>\n",
       "      <td>GENERAL MANAGER-METROPOLITAN TRANSIT AUTHORITY</td>\n",
       "      <td>167411</td>\n",
       "      <td>0</td>\n",
       "      <td>400184</td>\n",
       "      <td></td>\n",
       "      <td>567595.43</td>\n",
       "      <td>567595.43</td>\n",
       "      <td>2011</td>\n",
       "      <td></td>\n",
       "      <td>San Francisco</td>\n",
       "      <td></td>\n",
       "    </tr>\n",
       "    <tr>\n",
       "      <th>1</th>\n",
       "      <td>2</td>\n",
       "      <td>GARY JIMENEZ</td>\n",
       "      <td>CAPTAIN III (POLICE DEPARTMENT)</td>\n",
       "      <td>155966</td>\n",
       "      <td>245132</td>\n",
       "      <td>137811</td>\n",
       "      <td></td>\n",
       "      <td>538909.28</td>\n",
       "      <td>538909.28</td>\n",
       "      <td>2011</td>\n",
       "      <td></td>\n",
       "      <td>San Francisco</td>\n",
       "      <td></td>\n",
       "    </tr>\n",
       "    <tr>\n",
       "      <th>2</th>\n",
       "      <td>3</td>\n",
       "      <td>ALBERT PARDINI</td>\n",
       "      <td>CAPTAIN III (POLICE DEPARTMENT)</td>\n",
       "      <td>212739</td>\n",
       "      <td>106088</td>\n",
       "      <td>16452.6</td>\n",
       "      <td></td>\n",
       "      <td>335279.91</td>\n",
       "      <td>335279.91</td>\n",
       "      <td>2011</td>\n",
       "      <td></td>\n",
       "      <td>San Francisco</td>\n",
       "      <td></td>\n",
       "    </tr>\n",
       "    <tr>\n",
       "      <th>3</th>\n",
       "      <td>4</td>\n",
       "      <td>CHRISTOPHER CHONG</td>\n",
       "      <td>WIRE ROPE CABLE MAINTENANCE MECHANIC</td>\n",
       "      <td>77916</td>\n",
       "      <td>56120.7</td>\n",
       "      <td>198307</td>\n",
       "      <td></td>\n",
       "      <td>332343.61</td>\n",
       "      <td>332343.61</td>\n",
       "      <td>2011</td>\n",
       "      <td></td>\n",
       "      <td>San Francisco</td>\n",
       "      <td></td>\n",
       "    </tr>\n",
       "    <tr>\n",
       "      <th>4</th>\n",
       "      <td>5</td>\n",
       "      <td>PATRICK GARDNER</td>\n",
       "      <td>DEPUTY CHIEF OF DEPARTMENT,(FIRE DEPARTMENT)</td>\n",
       "      <td>134402</td>\n",
       "      <td>9737</td>\n",
       "      <td>182235</td>\n",
       "      <td></td>\n",
       "      <td>326373.19</td>\n",
       "      <td>326373.19</td>\n",
       "      <td>2011</td>\n",
       "      <td></td>\n",
       "      <td>San Francisco</td>\n",
       "      <td></td>\n",
       "    </tr>\n",
       "  </tbody>\n",
       "</table>\n",
       "</div>"
      ],
      "text/plain": [
       "   Id       EmployeeName                                        JobTitle  \\\n",
       "0   1     NATHANIEL FORD  GENERAL MANAGER-METROPOLITAN TRANSIT AUTHORITY   \n",
       "1   2       GARY JIMENEZ                 CAPTAIN III (POLICE DEPARTMENT)   \n",
       "2   3     ALBERT PARDINI                 CAPTAIN III (POLICE DEPARTMENT)   \n",
       "3   4  CHRISTOPHER CHONG            WIRE ROPE CABLE MAINTENANCE MECHANIC   \n",
       "4   5    PATRICK GARDNER    DEPUTY CHIEF OF DEPARTMENT,(FIRE DEPARTMENT)   \n",
       "\n",
       "  BasePay OvertimePay OtherPay Benefits   TotalPay  TotalPayBenefits  Year  \\\n",
       "0  167411           0   400184           567595.43         567595.43  2011   \n",
       "1  155966      245132   137811           538909.28         538909.28  2011   \n",
       "2  212739      106088  16452.6           335279.91         335279.91  2011   \n",
       "3   77916     56120.7   198307           332343.61         332343.61  2011   \n",
       "4  134402        9737   182235           326373.19         326373.19  2011   \n",
       "\n",
       "  Notes         Agency Status  \n",
       "0        San Francisco         \n",
       "1        San Francisco         \n",
       "2        San Francisco         \n",
       "3        San Francisco         \n",
       "4        San Francisco         "
      ]
     },
     "execution_count": 28,
     "metadata": {},
     "output_type": "execute_result"
    }
   ],
   "source": [
    "import sqlite3\n",
    "conn = sqlite3.connect(\"salaries.sqlite\")\n",
    "\n",
    "import pandas as pd\n",
    "sql_df = pd.read_sql_query(\"SELECT * FROM Salaries;\", conn)\n",
    "sql_df.head(5)"
   ]
  },
  {
   "cell_type": "code",
   "execution_count": 29,
   "metadata": {},
   "outputs": [
    {
     "data": {
      "text/plain": [
       "Index([], dtype='object')"
      ]
     },
     "execution_count": 29,
     "metadata": {},
     "output_type": "execute_result"
    }
   ],
   "source": [
    "sql_df.columns[sql_df.isnull().any()]"
   ]
  },
  {
   "cell_type": "markdown",
   "metadata": {},
   "source": [
    "It looks like there are no missing values in our data! That's great. Let's look at the distribution of pay."
   ]
  },
  {
   "cell_type": "code",
   "execution_count": 32,
   "metadata": {},
   "outputs": [
    {
     "data": {
      "image/png": "[encoded data removed]",
      "text/plain": [
       "<Figure size 432x288 with 1 Axes>"
      ]
     },
     "metadata": {
      "needs_background": "light"
     },
     "output_type": "display_data"
    }
   ],
   "source": [
    "import seaborn as sns\n",
    "sql_df.BasePay = pd.to_numeric(sql_df.BasePay, errors=\"coerce\")\n",
    "sql_df.TotalPay = pd.to_numeric(sql_df.TotalPay, errors=\"coerce\")\n",
    "sns.distplot(sql_df.BasePay.fillna(0.0), kde=True, bins=10, color=\"skyblue\", label=\"Base Pay\")\n",
    "sns.distplot(sql_df.TotalPay.fillna(0.0), kde=True, bins=10, color=\"red\", label=\"Total Pay\")\n",
    "plt.legend()\n",
    "plt.show()"
   ]
  },
  {
   "cell_type": "code",
   "execution_count": 33,
   "metadata": {},
   "outputs": [
    {
     "data": {
      "text/html": [
       "<div>\n",
       "<style scoped>\n",
       "    .dataframe tbody tr th:only-of-type {\n",
       "        vertical-align: middle;\n",
       "    }\n",
       "\n",
       "    .dataframe tbody tr th {\n",
       "        vertical-align: top;\n",
       "    }\n",
       "\n",
       "    .dataframe thead th {\n",
       "        text-align: right;\n",
       "    }\n",
       "</style>\n",
       "<table border=\"1\" class=\"dataframe\">\n",
       "  <thead>\n",
       "    <tr style=\"text-align: right;\">\n",
       "      <th></th>\n",
       "      <th>count</th>\n",
       "      <th>mean</th>\n",
       "      <th>std</th>\n",
       "      <th>min</th>\n",
       "      <th>25%</th>\n",
       "      <th>50%</th>\n",
       "      <th>75%</th>\n",
       "      <th>max</th>\n",
       "    </tr>\n",
       "    <tr>\n",
       "      <th>Year</th>\n",
       "      <th></th>\n",
       "      <th></th>\n",
       "      <th></th>\n",
       "      <th></th>\n",
       "      <th></th>\n",
       "      <th></th>\n",
       "      <th></th>\n",
       "      <th></th>\n",
       "    </tr>\n",
       "  </thead>\n",
       "  <tbody>\n",
       "    <tr>\n",
       "      <th>2011</th>\n",
       "      <td>36159.0</td>\n",
       "      <td>71744.103871</td>\n",
       "      <td>47498.706594</td>\n",
       "      <td>0.00</td>\n",
       "      <td>36810.7600</td>\n",
       "      <td>68213.240</td>\n",
       "      <td>102512.680</td>\n",
       "      <td>567595.43</td>\n",
       "    </tr>\n",
       "    <tr>\n",
       "      <th>2012</th>\n",
       "      <td>36766.0</td>\n",
       "      <td>74113.262265</td>\n",
       "      <td>49523.904319</td>\n",
       "      <td>0.00</td>\n",
       "      <td>37560.6075</td>\n",
       "      <td>70714.680</td>\n",
       "      <td>104099.170</td>\n",
       "      <td>362844.66</td>\n",
       "    </tr>\n",
       "    <tr>\n",
       "      <th>2013</th>\n",
       "      <td>37606.0</td>\n",
       "      <td>77611.443142</td>\n",
       "      <td>52854.774783</td>\n",
       "      <td>0.00</td>\n",
       "      <td>36754.9950</td>\n",
       "      <td>74500.015</td>\n",
       "      <td>109637.670</td>\n",
       "      <td>347102.32</td>\n",
       "    </tr>\n",
       "    <tr>\n",
       "      <th>2014</th>\n",
       "      <td>38123.0</td>\n",
       "      <td>75463.918140</td>\n",
       "      <td>51697.713029</td>\n",
       "      <td>-618.13</td>\n",
       "      <td>33436.2100</td>\n",
       "      <td>72359.980</td>\n",
       "      <td>107974.445</td>\n",
       "      <td>471952.64</td>\n",
       "    </tr>\n",
       "  </tbody>\n",
       "</table>\n",
       "</div>"
      ],
      "text/plain": [
       "        count          mean           std     min         25%        50%  \\\n",
       "Year                                                                       \n",
       "2011  36159.0  71744.103871  47498.706594    0.00  36810.7600  68213.240   \n",
       "2012  36766.0  74113.262265  49523.904319    0.00  37560.6075  70714.680   \n",
       "2013  37606.0  77611.443142  52854.774783    0.00  36754.9950  74500.015   \n",
       "2014  38123.0  75463.918140  51697.713029 -618.13  33436.2100  72359.980   \n",
       "\n",
       "             75%        max  \n",
       "Year                         \n",
       "2011  102512.680  567595.43  \n",
       "2012  104099.170  362844.66  \n",
       "2013  109637.670  347102.32  \n",
       "2014  107974.445  471952.64  "
      ]
     },
     "execution_count": 33,
     "metadata": {},
     "output_type": "execute_result"
    }
   ],
   "source": [
    "sql_df.TotalPay.groupby(sql_df.Year).describe()"
   ]
  },
  {
   "cell_type": "markdown",
   "metadata": {},
   "source": [
    "There are certainly outliers here. We're not doing any regression, though, so we'll leave it alone for now. If we were to work with average pay, we would probably want to look at median as opposed to mean."
   ]
  },
  {
   "cell_type": "code",
   "execution_count": null,
   "metadata": {},
   "outputs": [],
   "source": []
  }
 ],
 "metadata": {
  "kernelspec": {
   "display_name": "Python 3",
   "language": "python",
   "name": "python3"
  },
  "language_info": {
   "codemirror_mode": {
    "name": "ipython",
    "version": 3
   },
   "file_extension": ".py",
   "mimetype": "text/x-python",
   "name": "python",
   "nbconvert_exporter": "python",
   "pygments_lexer": "ipython3",
   "version": "3.7.1"
  }
 },
 "nbformat": 4,
 "nbformat_minor": 2
}
